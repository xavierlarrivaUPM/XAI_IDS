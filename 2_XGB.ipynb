{
 "cells": [
  {
   "cell_type": "code",
   "execution_count": 9,
   "id": "aee72e08-eb6a-43af-9839-aa3885a8dd00",
   "metadata": {
    "execution": {
     "iopub.execute_input": "2023-06-20T19:36:58.637622Z",
     "iopub.status.busy": "2023-06-20T19:36:58.636930Z",
     "iopub.status.idle": "2023-06-20T19:37:01.723540Z",
     "shell.execute_reply": "2023-06-20T19:37:01.722619Z",
     "shell.execute_reply.started": "2023-06-20T19:36:58.637590Z"
    }
   },
   "outputs": [],
   "source": [
    "!pip install imbalanced-learn > /dev/null 2>&1"
   ]
  },
  {
   "cell_type": "code",
   "execution_count": 10,
   "id": "b5252d8d-64e5-44d4-a8a1-b81d11ceef01",
   "metadata": {
    "execution": {
     "iopub.execute_input": "2023-06-20T19:37:01.725866Z",
     "iopub.status.busy": "2023-06-20T19:37:01.725579Z",
     "iopub.status.idle": "2023-06-20T19:37:01.731382Z",
     "shell.execute_reply": "2023-06-20T19:37:01.730678Z",
     "shell.execute_reply.started": "2023-06-20T19:37:01.725834Z"
    },
    "tags": []
   },
   "outputs": [],
   "source": [
    "import pandas as pd\n",
    "import random\n",
    "import numpy as np\n",
    "import matplotlib.pyplot as plt\n",
    "import os\n",
    "import pickle\n",
    "from joblib import dump, load\n",
    "\n",
    "from imblearn.over_sampling import SMOTE\n",
    "\n",
    "from sklearn import metrics\n",
    "from sklearn.model_selection import train_test_split\n",
    "from sklearn.utils import shuffle\n",
    "from sklearn.utils.class_weight import compute_class_weight\n",
    "from sklearn.metrics import classification_report, confusion_matrix\n",
    "\n",
    "from xgboost import XGBClassifier"
   ]
  },
  {
   "cell_type": "markdown",
   "id": "ca4d3da2-c0f1-46eb-81cf-e80ef4f3e210",
   "metadata": {},
   "source": [
    "## 0.03"
   ]
  },
  {
   "cell_type": "code",
   "execution_count": 11,
   "id": "1cbf036e-a2db-434f-8ddc-da10206d7ab6",
   "metadata": {
    "execution": {
     "iopub.execute_input": "2023-06-20T19:37:01.732857Z",
     "iopub.status.busy": "2023-06-20T19:37:01.732424Z",
     "iopub.status.idle": "2023-06-20T19:37:02.200611Z",
     "shell.execute_reply": "2023-06-20T19:37:02.199939Z",
     "shell.execute_reply.started": "2023-06-20T19:37:01.732833Z"
    }
   },
   "outputs": [
    {
     "name": "stdout",
     "output_type": "stream",
     "text": [
      "(123504, 22)\n",
      "(123504,)\n",
      "(41169, 22)\n",
      "(41169,)\n"
     ]
    }
   ],
   "source": [
    "train = pd.read_csv(\"/notebooks/FinalDataset/top003_train_encoded.csv\")\n",
    "test = pd.read_csv(\"/notebooks/FinalDataset/top003_test_encoded.csv\")\n",
    "\n",
    "x_train = train.drop('attack_cat', axis=1)\n",
    "y_train = train['attack_cat']\n",
    "\n",
    "x_test = test.drop('attack_cat', axis=1)\n",
    "y_test = test['attack_cat']\n",
    "\n",
    "del train, test\n",
    "\n",
    "print(x_train.shape)\n",
    "print(y_train.shape)\n",
    "print(x_test.shape)\n",
    "print(y_test.shape)"
   ]
  },
  {
   "cell_type": "markdown",
   "id": "44bc939b-94e5-4d7b-a08c-0a788a87e03f",
   "metadata": {},
   "source": [
    "### Unbalanced"
   ]
  },
  {
   "cell_type": "code",
   "execution_count": 12,
   "id": "5295cab3-24d4-4973-bbc6-0ace4d097222",
   "metadata": {
    "execution": {
     "iopub.execute_input": "2023-06-20T19:37:02.201774Z",
     "iopub.status.busy": "2023-06-20T19:37:02.201540Z",
     "iopub.status.idle": "2023-06-20T19:37:38.694510Z",
     "shell.execute_reply": "2023-06-20T19:37:38.693589Z",
     "shell.execute_reply.started": "2023-06-20T19:37:02.201755Z"
    }
   },
   "outputs": [
    {
     "name": "stdout",
     "output_type": "stream",
     "text": [
      "5    35.720301\n",
      "3    27.098717\n",
      "4    14.728268\n",
      "2     9.930852\n",
      "6     8.494462\n",
      "0     1.629097\n",
      "1     1.413719\n",
      "7     0.887421\n",
      "8     0.097163\n",
      "Name: attack_cat, dtype: float64\n"
     ]
    },
    {
     "name": "stderr",
     "output_type": "stream",
     "text": [
      "/usr/local/lib/python3.9/dist-packages/xgboost/sklearn.py:793: UserWarning: `early_stopping_rounds` in `fit` method is deprecated for better compatibility with scikit-learn, use `early_stopping_rounds` in constructor or`set_params` instead.\n",
      "  warnings.warn(\n"
     ]
    },
    {
     "name": "stdout",
     "output_type": "stream",
     "text": [
      "              precision    recall  f1-score   support\n",
      "\n",
      "           0       0.79      0.18      0.29       665\n",
      "           1       0.92      0.08      0.15       583\n",
      "           2       0.54      0.10      0.17      4088\n",
      "           3       0.62      0.94      0.75     11057\n",
      "           4       0.94      0.87      0.90      6056\n",
      "           5       1.00      0.98      0.99     14755\n",
      "           6       0.93      0.78      0.85      3496\n",
      "           7       0.76      0.82      0.79       415\n",
      "           8       0.70      0.69      0.69        54\n",
      "\n",
      "    accuracy                           0.82     41169\n",
      "   macro avg       0.80      0.60      0.62     41169\n",
      "weighted avg       0.83      0.82      0.79     41169\n",
      "\n"
     ]
    }
   ],
   "source": [
    "proportions = y_train.value_counts(normalize=True) * 100\n",
    "print(proportions)\n",
    "\n",
    "model = XGBClassifier(eval_metric=\"mlogloss\", objective=\"multi:softprob\",n_jobs=-1,random_state=42)\n",
    "model.fit(x_train, y_train, eval_set=[(x_test, y_test)], early_stopping_rounds=10, verbose=False)\n",
    "model.save_model(\"/notebooks/Models/XGB/XGB_003_Unbalanced.ubj\")\n",
    "\n",
    "model.load_model(\"/notebooks/Models/XGB/XGB_003_Unbalanced.ubj\")\n",
    "y_pred = model.predict(x_test)\n",
    "print(classification_report(y_test, y_pred))"
   ]
  },
  {
   "cell_type": "markdown",
   "id": "77575c58-bbf5-47f0-bdac-fd28bcb3fc31",
   "metadata": {},
   "source": [
    "### Balanced"
   ]
  },
  {
   "cell_type": "code",
   "execution_count": 13,
   "id": "b041a633-7bb6-40ae-8715-5a6a295b5b3a",
   "metadata": {
    "execution": {
     "iopub.execute_input": "2023-06-20T19:37:38.696879Z",
     "iopub.status.busy": "2023-06-20T19:37:38.696610Z",
     "iopub.status.idle": "2023-06-20T19:39:54.803124Z",
     "shell.execute_reply": "2023-06-20T19:39:54.802045Z",
     "shell.execute_reply.started": "2023-06-20T19:37:38.696854Z"
    }
   },
   "outputs": [
    {
     "name": "stdout",
     "output_type": "stream",
     "text": [
      "1    11.111111\n",
      "5    11.111111\n",
      "0    11.111111\n",
      "6    11.111111\n",
      "7    11.111111\n",
      "8    11.111111\n",
      "2    11.111111\n",
      "4    11.111111\n",
      "3    11.111111\n",
      "Name: attack_cat, dtype: float64\n"
     ]
    },
    {
     "name": "stderr",
     "output_type": "stream",
     "text": [
      "/usr/local/lib/python3.9/dist-packages/xgboost/sklearn.py:793: UserWarning: `early_stopping_rounds` in `fit` method is deprecated for better compatibility with scikit-learn, use `early_stopping_rounds` in constructor or`set_params` instead.\n",
      "  warnings.warn(\n"
     ]
    },
    {
     "name": "stdout",
     "output_type": "stream",
     "text": [
      "              precision    recall  f1-score   support\n",
      "\n",
      "           0       0.20      0.27      0.23       665\n",
      "           1       0.11      0.24      0.15       583\n",
      "           2       0.36      0.73      0.48      4088\n",
      "           3       0.88      0.53      0.66     11057\n",
      "           4       0.95      0.85      0.90      6056\n",
      "           5       1.00      0.98      0.99     14755\n",
      "           6       0.85      0.83      0.84      3496\n",
      "           7       0.51      0.92      0.66       415\n",
      "           8       0.35      0.72      0.47        54\n",
      "\n",
      "    accuracy                           0.78     41169\n",
      "   macro avg       0.58      0.67      0.60     41169\n",
      "weighted avg       0.85      0.78      0.80     41169\n",
      "\n"
     ]
    }
   ],
   "source": [
    "oversample = SMOTE(sampling_strategy='not majority', random_state=42)\n",
    "x_train, y_train = oversample.fit_resample(x_train, y_train)\n",
    "x_train, y_train = shuffle(x_train, y_train, random_state=42)\n",
    "\n",
    "proportions = y_train.value_counts(normalize=True) * 100\n",
    "print(proportions)\n",
    "\n",
    "model = XGBClassifier(eval_metric=\"mlogloss\", objective=\"multi:softprob\",n_jobs=-1,random_state=42)\n",
    "model.fit(x_train, y_train, eval_set=[(x_test, y_test)], early_stopping_rounds=10, verbose=False)\n",
    "model.save_model(\"/notebooks/Models/XGB/XGB_003_Balanced.ubj\")\n",
    "\n",
    "model.load_model(\"/notebooks/Models/XGB/XGB_003_Balanced.ubj\")\n",
    "y_pred = model.predict(x_test)\n",
    "print(classification_report(y_test, y_pred))"
   ]
  },
  {
   "cell_type": "markdown",
   "id": "dcf7c8b0-008f-4374-b82e-fe777d0c54cf",
   "metadata": {},
   "source": [
    "## 0.02"
   ]
  },
  {
   "cell_type": "code",
   "execution_count": 14,
   "id": "a1baa351-8582-484b-8512-6c4a49dba0b2",
   "metadata": {
    "execution": {
     "iopub.execute_input": "2023-06-20T19:39:54.804654Z",
     "iopub.status.busy": "2023-06-20T19:39:54.804393Z",
     "iopub.status.idle": "2023-06-20T19:39:56.424759Z",
     "shell.execute_reply": "2023-06-20T19:39:56.423719Z",
     "shell.execute_reply.started": "2023-06-20T19:39:54.804625Z"
    }
   },
   "outputs": [
    {
     "name": "stdout",
     "output_type": "stream",
     "text": [
      "(123504, 154)\n",
      "(123504,)\n",
      "(41169, 154)\n",
      "(41169,)\n"
     ]
    }
   ],
   "source": [
    "train = pd.read_csv(\"/notebooks/FinalDataset/top002_train_encoded.csv\")\n",
    "test = pd.read_csv(\"/notebooks/FinalDataset/top002_test_encoded.csv\")\n",
    "\n",
    "x_train = train.drop('attack_cat', axis=1)\n",
    "y_train = train['attack_cat']\n",
    "\n",
    "x_test = test.drop('attack_cat', axis=1)\n",
    "y_test = test['attack_cat']\n",
    "\n",
    "del train, test\n",
    "\n",
    "print(x_train.shape)\n",
    "print(y_train.shape)\n",
    "print(x_test.shape)\n",
    "print(y_test.shape)"
   ]
  },
  {
   "cell_type": "markdown",
   "id": "ae690583-6a4b-48ae-b227-cce06fa9a8d1",
   "metadata": {},
   "source": [
    "## Unbalanced"
   ]
  },
  {
   "cell_type": "code",
   "execution_count": 15,
   "id": "45d4512e-4f76-4959-bef2-9d33a5490395",
   "metadata": {
    "execution": {
     "iopub.execute_input": "2023-06-20T19:39:56.426088Z",
     "iopub.status.busy": "2023-06-20T19:39:56.425849Z",
     "iopub.status.idle": "2023-06-20T19:42:09.822634Z",
     "shell.execute_reply": "2023-06-20T19:42:09.821975Z",
     "shell.execute_reply.started": "2023-06-20T19:39:56.426066Z"
    }
   },
   "outputs": [
    {
     "name": "stdout",
     "output_type": "stream",
     "text": [
      "5    35.720301\n",
      "3    27.098717\n",
      "4    14.728268\n",
      "2     9.930852\n",
      "6     8.494462\n",
      "0     1.629097\n",
      "1     1.413719\n",
      "7     0.887421\n",
      "8     0.097163\n",
      "Name: attack_cat, dtype: float64\n"
     ]
    },
    {
     "name": "stderr",
     "output_type": "stream",
     "text": [
      "/usr/local/lib/python3.9/dist-packages/xgboost/sklearn.py:793: UserWarning: `early_stopping_rounds` in `fit` method is deprecated for better compatibility with scikit-learn, use `early_stopping_rounds` in constructor or`set_params` instead.\n",
      "  warnings.warn(\n"
     ]
    },
    {
     "name": "stdout",
     "output_type": "stream",
     "text": [
      "              precision    recall  f1-score   support\n",
      "\n",
      "           0       0.76      0.19      0.31       665\n",
      "           1       0.92      0.08      0.15       583\n",
      "           2       0.53      0.13      0.20      4088\n",
      "           3       0.63      0.93      0.75     11057\n",
      "           4       0.95      0.87      0.91      6056\n",
      "           5       1.00      0.98      0.99     14755\n",
      "           6       0.94      0.78      0.85      3496\n",
      "           7       0.73      0.82      0.77       415\n",
      "           8       0.66      0.70      0.68        54\n",
      "\n",
      "    accuracy                           0.82     41169\n",
      "   macro avg       0.79      0.61      0.62     41169\n",
      "weighted avg       0.83      0.82      0.80     41169\n",
      "\n"
     ]
    }
   ],
   "source": [
    "proportions = y_train.value_counts(normalize=True) * 100\n",
    "print(proportions)\n",
    "\n",
    "model = XGBClassifier(eval_metric=\"mlogloss\", objective=\"multi:softprob\",n_jobs=-1,random_state=42)\n",
    "model.fit(x_train, y_train, eval_set=[(x_test, y_test)], early_stopping_rounds=10, verbose=False)\n",
    "model.save_model(\"/notebooks/Models/XGB/XGB_002_Unbalanced.ubj\")\n",
    "\n",
    "model.load_model(\"/notebooks/Models/XGB/XGB_002_Unbalanced.ubj\")\n",
    "y_pred = model.predict(x_test)\n",
    "print(classification_report(y_test, y_pred))"
   ]
  },
  {
   "cell_type": "markdown",
   "id": "2c4db732-e473-429d-90cf-25eb2fe04589",
   "metadata": {},
   "source": [
    "### Balanced"
   ]
  },
  {
   "cell_type": "code",
   "execution_count": 16,
   "id": "2cc78ab8-7127-4244-bd03-42fd86fa5178",
   "metadata": {
    "execution": {
     "iopub.execute_input": "2023-06-20T19:42:09.824823Z",
     "iopub.status.busy": "2023-06-20T19:42:09.823736Z",
     "iopub.status.idle": "2023-06-20T19:49:54.036707Z",
     "shell.execute_reply": "2023-06-20T19:49:54.035638Z",
     "shell.execute_reply.started": "2023-06-20T19:42:09.824794Z"
    }
   },
   "outputs": [
    {
     "name": "stdout",
     "output_type": "stream",
     "text": [
      "1    11.111111\n",
      "5    11.111111\n",
      "0    11.111111\n",
      "6    11.111111\n",
      "7    11.111111\n",
      "8    11.111111\n",
      "2    11.111111\n",
      "4    11.111111\n",
      "3    11.111111\n",
      "Name: attack_cat, dtype: float64\n"
     ]
    },
    {
     "name": "stderr",
     "output_type": "stream",
     "text": [
      "/usr/local/lib/python3.9/dist-packages/xgboost/sklearn.py:793: UserWarning: `early_stopping_rounds` in `fit` method is deprecated for better compatibility with scikit-learn, use `early_stopping_rounds` in constructor or`set_params` instead.\n",
      "  warnings.warn(\n"
     ]
    },
    {
     "name": "stdout",
     "output_type": "stream",
     "text": [
      "              precision    recall  f1-score   support\n",
      "\n",
      "           0       0.31      0.23      0.27       665\n",
      "           1       0.11      0.20      0.14       583\n",
      "           2       0.37      0.76      0.49      4088\n",
      "           3       0.87      0.54      0.67     11057\n",
      "           4       0.95      0.86      0.90      6056\n",
      "           5       1.00      0.98      0.99     14755\n",
      "           6       0.85      0.83      0.84      3496\n",
      "           7       0.51      0.93      0.66       415\n",
      "           8       0.38      0.80      0.51        54\n",
      "\n",
      "    accuracy                           0.79     41169\n",
      "   macro avg       0.59      0.68      0.61     41169\n",
      "weighted avg       0.85      0.79      0.80     41169\n",
      "\n"
     ]
    }
   ],
   "source": [
    "oversample = SMOTE(sampling_strategy='not majority', random_state=42)\n",
    "x_train, y_train = oversample.fit_resample(x_train, y_train)\n",
    "x_train, y_train = shuffle(x_train, y_train, random_state=42)\n",
    "\n",
    "proportions = y_train.value_counts(normalize=True) * 100\n",
    "print(proportions)\n",
    "\n",
    "model = XGBClassifier(eval_metric=\"mlogloss\", objective=\"multi:softprob\",n_jobs=-1,random_state=42)\n",
    "model.fit(x_train, y_train, eval_set=[(x_test, y_test)], early_stopping_rounds=10, verbose=False)\n",
    "model.save_model(\"/notebooks/Models/XGB/XGB_002_Balanced.ubj\")\n",
    "\n",
    "model.load_model(\"/notebooks/Models/XGB/XGB_002_Balanced.ubj\")\n",
    "y_pred = model.predict(x_test)\n",
    "print(classification_report(y_test, y_pred))"
   ]
  },
  {
   "cell_type": "markdown",
   "id": "162f6a99-4cd5-40bd-b99e-7ee140ed7b8c",
   "metadata": {},
   "source": [
    "## 0.01"
   ]
  },
  {
   "cell_type": "code",
   "execution_count": 17,
   "id": "63d13dfe-af88-4638-be01-6b6c73f5ddb6",
   "metadata": {
    "execution": {
     "iopub.execute_input": "2023-06-20T19:49:54.037995Z",
     "iopub.status.busy": "2023-06-20T19:49:54.037766Z",
     "iopub.status.idle": "2023-06-20T19:49:56.087395Z",
     "shell.execute_reply": "2023-06-20T19:49:56.086641Z",
     "shell.execute_reply.started": "2023-06-20T19:49:54.037973Z"
    }
   },
   "outputs": [
    {
     "name": "stdout",
     "output_type": "stream",
     "text": [
      "(123504, 168)\n",
      "(123504,)\n",
      "(41169, 168)\n",
      "(41169,)\n"
     ]
    }
   ],
   "source": [
    "train = pd.read_csv(\"/notebooks/FinalDataset/top001_train_encoded.csv\")\n",
    "test = pd.read_csv(\"/notebooks/FinalDataset/top001_test_encoded.csv\")\n",
    "\n",
    "x_train = train.drop('attack_cat', axis=1)\n",
    "y_train = train['attack_cat']\n",
    "\n",
    "x_test = test.drop('attack_cat', axis=1)\n",
    "y_test = test['attack_cat']\n",
    "\n",
    "del train, test\n",
    "\n",
    "print(x_train.shape)\n",
    "print(y_train.shape)\n",
    "print(x_test.shape)\n",
    "print(y_test.shape)"
   ]
  },
  {
   "cell_type": "markdown",
   "id": "df329106-16af-4cfd-9505-0222a3384eb8",
   "metadata": {},
   "source": [
    "### Unbalanced"
   ]
  },
  {
   "cell_type": "code",
   "execution_count": 18,
   "id": "4a795548-ade1-40f6-9dae-74a92f14ae67",
   "metadata": {
    "execution": {
     "iopub.execute_input": "2023-06-20T19:49:56.089026Z",
     "iopub.status.busy": "2023-06-20T19:49:56.088776Z",
     "iopub.status.idle": "2023-06-20T19:52:34.978460Z",
     "shell.execute_reply": "2023-06-20T19:52:34.977578Z",
     "shell.execute_reply.started": "2023-06-20T19:49:56.089004Z"
    }
   },
   "outputs": [
    {
     "name": "stdout",
     "output_type": "stream",
     "text": [
      "5    35.720301\n",
      "3    27.098717\n",
      "4    14.728268\n",
      "2     9.930852\n",
      "6     8.494462\n",
      "0     1.629097\n",
      "1     1.413719\n",
      "7     0.887421\n",
      "8     0.097163\n",
      "Name: attack_cat, dtype: float64\n"
     ]
    },
    {
     "name": "stderr",
     "output_type": "stream",
     "text": [
      "/usr/local/lib/python3.9/dist-packages/xgboost/sklearn.py:793: UserWarning: `early_stopping_rounds` in `fit` method is deprecated for better compatibility with scikit-learn, use `early_stopping_rounds` in constructor or`set_params` instead.\n",
      "  warnings.warn(\n"
     ]
    },
    {
     "name": "stdout",
     "output_type": "stream",
     "text": [
      "              precision    recall  f1-score   support\n",
      "\n",
      "           0       0.78      0.19      0.30       665\n",
      "           1       0.89      0.08      0.15       583\n",
      "           2       0.55      0.11      0.18      4088\n",
      "           3       0.63      0.94      0.75     11057\n",
      "           4       0.94      0.87      0.91      6056\n",
      "           5       1.00      0.98      0.99     14755\n",
      "           6       0.92      0.78      0.84      3496\n",
      "           7       0.72      0.78      0.75       415\n",
      "           8       0.66      0.61      0.63        54\n",
      "\n",
      "    accuracy                           0.82     41169\n",
      "   macro avg       0.79      0.59      0.61     41169\n",
      "weighted avg       0.83      0.82      0.79     41169\n",
      "\n"
     ]
    }
   ],
   "source": [
    "proportions = y_train.value_counts(normalize=True) * 100\n",
    "print(proportions)\n",
    "\n",
    "model = XGBClassifier(eval_metric=\"mlogloss\", objective=\"multi:softprob\",n_jobs=-1,random_state=42)\n",
    "model.fit(x_train, y_train, eval_set=[(x_test, y_test)], early_stopping_rounds=10, verbose=False)\n",
    "model.save_model(\"/notebooks/Models/XGB/XGB_001_Unbalanced.ubj\")\n",
    "\n",
    "model.load_model(\"/notebooks/Models/XGB/XGB_001_Unbalanced.ubj\")\n",
    "y_pred = model.predict(x_test)\n",
    "print(classification_report(y_test, y_pred))"
   ]
  },
  {
   "cell_type": "markdown",
   "id": "c2f76cd9-17bb-4e77-9864-49c90c25b932",
   "metadata": {},
   "source": [
    "### Balanced"
   ]
  },
  {
   "cell_type": "code",
   "execution_count": 19,
   "id": "8b12a6fc-acf4-45bd-a3b6-7024351b0f0b",
   "metadata": {
    "execution": {
     "iopub.execute_input": "2023-06-20T19:52:34.979754Z",
     "iopub.status.busy": "2023-06-20T19:52:34.979490Z",
     "iopub.status.idle": "2023-06-20T20:02:04.822160Z",
     "shell.execute_reply": "2023-06-20T20:02:04.821482Z",
     "shell.execute_reply.started": "2023-06-20T19:52:34.979714Z"
    }
   },
   "outputs": [
    {
     "name": "stdout",
     "output_type": "stream",
     "text": [
      "1    11.111111\n",
      "5    11.111111\n",
      "0    11.111111\n",
      "6    11.111111\n",
      "7    11.111111\n",
      "8    11.111111\n",
      "2    11.111111\n",
      "4    11.111111\n",
      "3    11.111111\n",
      "Name: attack_cat, dtype: float64\n"
     ]
    },
    {
     "name": "stderr",
     "output_type": "stream",
     "text": [
      "/usr/local/lib/python3.9/dist-packages/xgboost/sklearn.py:793: UserWarning: `early_stopping_rounds` in `fit` method is deprecated for better compatibility with scikit-learn, use `early_stopping_rounds` in constructor or`set_params` instead.\n",
      "  warnings.warn(\n"
     ]
    },
    {
     "name": "stdout",
     "output_type": "stream",
     "text": [
      "              precision    recall  f1-score   support\n",
      "\n",
      "           0       0.36      0.23      0.28       665\n",
      "           1       0.16      0.19      0.17       583\n",
      "           2       0.36      0.77      0.49      4088\n",
      "           3       0.85      0.56      0.68     11057\n",
      "           4       0.96      0.86      0.91      6056\n",
      "           5       1.00      0.98      0.99     14755\n",
      "           6       0.87      0.81      0.84      3496\n",
      "           7       0.54      0.92      0.68       415\n",
      "           8       0.40      0.72      0.51        54\n",
      "\n",
      "    accuracy                           0.79     41169\n",
      "   macro avg       0.61      0.67      0.62     41169\n",
      "weighted avg       0.85      0.79      0.81     41169\n",
      "\n"
     ]
    }
   ],
   "source": [
    "oversample = SMOTE(sampling_strategy='not majority', random_state=42)\n",
    "x_train, y_train = oversample.fit_resample(x_train, y_train)\n",
    "x_train, y_train = shuffle(x_train, y_train, random_state=42)\n",
    "\n",
    "proportions = y_train.value_counts(normalize=True) * 100\n",
    "print(proportions)\n",
    "\n",
    "model = XGBClassifier(eval_metric=\"mlogloss\", objective=\"multi:softprob\",n_jobs=-1,random_state=42)\n",
    "model.fit(x_train, y_train, eval_set=[(x_test, y_test)], early_stopping_rounds=10, verbose=False)\n",
    "model.save_model(\"/notebooks/Models/XGB/XGB_001_Balanced.ubj\")\n",
    "\n",
    "model.load_model(\"/notebooks/Models/XGB/XGB_001_Balanced.ubj\")\n",
    "y_pred = model.predict(x_test)\n",
    "print(classification_report(y_test, y_pred))"
   ]
  }
 ],
 "metadata": {
  "kernelspec": {
   "display_name": "Python 3 (ipykernel)",
   "language": "python",
   "name": "python3"
  },
  "language_info": {
   "codemirror_mode": {
    "name": "ipython",
    "version": 3
   },
   "file_extension": ".py",
   "mimetype": "text/x-python",
   "name": "python",
   "nbconvert_exporter": "python",
   "pygments_lexer": "ipython3",
   "version": "3.7.16"
  }
 },
 "nbformat": 4,
 "nbformat_minor": 5
}
