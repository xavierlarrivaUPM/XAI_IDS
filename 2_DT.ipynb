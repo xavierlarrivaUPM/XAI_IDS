{
 "cells": [
  {
   "cell_type": "code",
   "execution_count": 1,
   "id": "aee72e08-eb6a-43af-9839-aa3885a8dd00",
   "metadata": {
    "execution": {
     "iopub.execute_input": "2023-06-20T19:14:17.741163Z",
     "iopub.status.busy": "2023-06-20T19:14:17.740474Z",
     "iopub.status.idle": "2023-06-20T19:14:20.823556Z",
     "shell.execute_reply": "2023-06-20T19:14:20.822536Z",
     "shell.execute_reply.started": "2023-06-20T19:14:17.741132Z"
    }
   },
   "outputs": [],
   "source": [
    "!pip install imbalanced-learn > /dev/null 2>&1"
   ]
  },
  {
   "cell_type": "code",
   "execution_count": 2,
   "id": "b5252d8d-64e5-44d4-a8a1-b81d11ceef01",
   "metadata": {
    "execution": {
     "iopub.execute_input": "2023-06-20T19:14:20.825784Z",
     "iopub.status.busy": "2023-06-20T19:14:20.825517Z",
     "iopub.status.idle": "2023-06-20T19:14:22.104553Z",
     "shell.execute_reply": "2023-06-20T19:14:22.103727Z",
     "shell.execute_reply.started": "2023-06-20T19:14:20.825748Z"
    },
    "tags": []
   },
   "outputs": [],
   "source": [
    "import pandas as pd\n",
    "import random\n",
    "import numpy as np\n",
    "import matplotlib.pyplot as plt\n",
    "import os\n",
    "import pickle\n",
    "from joblib import dump, load\n",
    "\n",
    "from imblearn.over_sampling import SMOTE\n",
    "\n",
    "from sklearn import metrics\n",
    "from sklearn.model_selection import train_test_split\n",
    "from sklearn.utils import shuffle\n",
    "from sklearn.utils.class_weight import compute_class_weight\n",
    "from sklearn.metrics import classification_report, confusion_matrix\n",
    "from sklearn.tree import DecisionTreeClassifier"
   ]
  },
  {
   "cell_type": "markdown",
   "id": "ca4d3da2-c0f1-46eb-81cf-e80ef4f3e210",
   "metadata": {},
   "source": [
    "## 0.03"
   ]
  },
  {
   "cell_type": "code",
   "execution_count": 3,
   "id": "1cbf036e-a2db-434f-8ddc-da10206d7ab6",
   "metadata": {
    "execution": {
     "iopub.execute_input": "2023-06-20T19:14:22.106077Z",
     "iopub.status.busy": "2023-06-20T19:14:22.105674Z",
     "iopub.status.idle": "2023-06-20T19:14:22.626893Z",
     "shell.execute_reply": "2023-06-20T19:14:22.625930Z",
     "shell.execute_reply.started": "2023-06-20T19:14:22.106053Z"
    }
   },
   "outputs": [
    {
     "name": "stdout",
     "output_type": "stream",
     "text": [
      "(123504, 22)\n",
      "(123504,)\n",
      "(41169, 22)\n",
      "(41169,)\n"
     ]
    }
   ],
   "source": [
    "train = pd.read_csv(\"/notebooks/FinalDataset/top003_train_encoded.csv\")\n",
    "test = pd.read_csv(\"/notebooks/FinalDataset/top003_test_encoded.csv\")\n",
    "\n",
    "x_train = train.drop('attack_cat', axis=1)\n",
    "y_train = train['attack_cat']\n",
    "\n",
    "x_test = test.drop('attack_cat', axis=1)\n",
    "y_test = test['attack_cat']\n",
    "\n",
    "del train, test\n",
    "\n",
    "print(x_train.shape)\n",
    "print(y_train.shape)\n",
    "print(x_test.shape)\n",
    "print(y_test.shape)"
   ]
  },
  {
   "cell_type": "markdown",
   "id": "44bc939b-94e5-4d7b-a08c-0a788a87e03f",
   "metadata": {},
   "source": [
    "### Unbalanced"
   ]
  },
  {
   "cell_type": "code",
   "execution_count": 4,
   "id": "5295cab3-24d4-4973-bbc6-0ace4d097222",
   "metadata": {
    "execution": {
     "iopub.execute_input": "2023-06-20T19:14:22.628190Z",
     "iopub.status.busy": "2023-06-20T19:14:22.627955Z",
     "iopub.status.idle": "2023-06-20T19:14:23.127106Z",
     "shell.execute_reply": "2023-06-20T19:14:23.126038Z",
     "shell.execute_reply.started": "2023-06-20T19:14:22.628168Z"
    }
   },
   "outputs": [
    {
     "name": "stdout",
     "output_type": "stream",
     "text": [
      "5    35.720301\n",
      "3    27.098717\n",
      "4    14.728268\n",
      "2     9.930852\n",
      "6     8.494462\n",
      "0     1.629097\n",
      "1     1.413719\n",
      "7     0.887421\n",
      "8     0.097163\n",
      "Name: attack_cat, dtype: float64\n",
      "              precision    recall  f1-score   support\n",
      "\n",
      "           0       0.56      0.17      0.26       665\n",
      "           1       0.47      0.08      0.13       583\n",
      "           2       0.39      0.22      0.28      4088\n",
      "           3       0.63      0.85      0.72     11057\n",
      "           4       0.92      0.85      0.88      6056\n",
      "           5       0.99      0.98      0.99     14755\n",
      "           6       0.91      0.76      0.83      3496\n",
      "           7       0.71      0.71      0.71       415\n",
      "           8       0.66      0.54      0.59        54\n",
      "\n",
      "    accuracy                           0.80     41169\n",
      "   macro avg       0.69      0.57      0.60     41169\n",
      "weighted avg       0.80      0.80      0.79     41169\n",
      "\n"
     ]
    }
   ],
   "source": [
    "proportions = y_train.value_counts(normalize=True) * 100\n",
    "print(proportions)\n",
    "\n",
    "model = DecisionTreeClassifier(random_state=42)\n",
    "model.fit(x_train, y_train)\n",
    "dump(model, \"/notebooks/Models/DT/DT_003_Unbalanced\")\n",
    "\n",
    "model = load(\"/notebooks/Models/DT/DT_003_Unbalanced\")\n",
    "y_pred = model.predict(x_test)\n",
    "print(classification_report(y_test, y_pred))"
   ]
  },
  {
   "cell_type": "markdown",
   "id": "77575c58-bbf5-47f0-bdac-fd28bcb3fc31",
   "metadata": {},
   "source": [
    "### Balanced"
   ]
  },
  {
   "cell_type": "code",
   "execution_count": 5,
   "id": "b041a633-7bb6-40ae-8715-5a6a295b5b3a",
   "metadata": {
    "execution": {
     "iopub.execute_input": "2023-06-20T19:14:23.129871Z",
     "iopub.status.busy": "2023-06-20T19:14:23.129187Z",
     "iopub.status.idle": "2023-06-20T19:14:27.768492Z",
     "shell.execute_reply": "2023-06-20T19:14:27.767480Z",
     "shell.execute_reply.started": "2023-06-20T19:14:23.129842Z"
    }
   },
   "outputs": [
    {
     "name": "stdout",
     "output_type": "stream",
     "text": [
      "1    11.111111\n",
      "5    11.111111\n",
      "0    11.111111\n",
      "6    11.111111\n",
      "7    11.111111\n",
      "8    11.111111\n",
      "2    11.111111\n",
      "4    11.111111\n",
      "3    11.111111\n",
      "Name: attack_cat, dtype: float64\n",
      "              precision    recall  f1-score   support\n",
      "\n",
      "           0       0.14      0.26      0.18       665\n",
      "           1       0.08      0.22      0.12       583\n",
      "           2       0.35      0.68      0.46      4088\n",
      "           3       0.86      0.52      0.65     11057\n",
      "           4       0.95      0.84      0.89      6056\n",
      "           5       0.99      0.98      0.99     14755\n",
      "           6       0.87      0.80      0.83      3496\n",
      "           7       0.63      0.76      0.69       415\n",
      "           8       0.39      0.74      0.51        54\n",
      "\n",
      "    accuracy                           0.77     41169\n",
      "   macro avg       0.59      0.64      0.59     41169\n",
      "weighted avg       0.84      0.77      0.79     41169\n",
      "\n"
     ]
    }
   ],
   "source": [
    "oversample = SMOTE(sampling_strategy='not majority', random_state=42)\n",
    "x_train, y_train = oversample.fit_resample(x_train, y_train)\n",
    "x_train, y_train = shuffle(x_train, y_train, random_state=42)\n",
    "\n",
    "proportions = y_train.value_counts(normalize=True) * 100\n",
    "print(proportions)\n",
    "\n",
    "model = DecisionTreeClassifier(random_state=42)\n",
    "model.fit(x_train, y_train)\n",
    "dump(model, \"/notebooks/Models/DT/DT_003_Balanced\")\n",
    "\n",
    "model = load(\"/notebooks/Models/DT/DT_003_Balanced\")\n",
    "y_pred = model.predict(x_test)\n",
    "print(classification_report(y_test, y_pred))"
   ]
  },
  {
   "cell_type": "markdown",
   "id": "dcf7c8b0-008f-4374-b82e-fe777d0c54cf",
   "metadata": {},
   "source": [
    "## 0.02"
   ]
  },
  {
   "cell_type": "code",
   "execution_count": 6,
   "id": "a1baa351-8582-484b-8512-6c4a49dba0b2",
   "metadata": {
    "execution": {
     "iopub.execute_input": "2023-06-20T19:14:27.769895Z",
     "iopub.status.busy": "2023-06-20T19:14:27.769650Z",
     "iopub.status.idle": "2023-06-20T19:14:29.427628Z",
     "shell.execute_reply": "2023-06-20T19:14:29.426852Z",
     "shell.execute_reply.started": "2023-06-20T19:14:27.769870Z"
    }
   },
   "outputs": [
    {
     "name": "stdout",
     "output_type": "stream",
     "text": [
      "(123504, 154)\n",
      "(123504,)\n",
      "(41169, 154)\n",
      "(41169,)\n"
     ]
    }
   ],
   "source": [
    "train = pd.read_csv(\"/notebooks/FinalDataset/top002_train_encoded.csv\")\n",
    "test = pd.read_csv(\"/notebooks/FinalDataset/top002_test_encoded.csv\")\n",
    "\n",
    "x_train = train.drop('attack_cat', axis=1)\n",
    "y_train = train['attack_cat']\n",
    "\n",
    "x_test = test.drop('attack_cat', axis=1)\n",
    "y_test = test['attack_cat']\n",
    "\n",
    "del train, test\n",
    "\n",
    "print(x_train.shape)\n",
    "print(y_train.shape)\n",
    "print(x_test.shape)\n",
    "print(y_test.shape)"
   ]
  },
  {
   "cell_type": "markdown",
   "id": "ae690583-6a4b-48ae-b227-cce06fa9a8d1",
   "metadata": {},
   "source": [
    "## Unbalanced"
   ]
  },
  {
   "cell_type": "code",
   "execution_count": 7,
   "id": "45d4512e-4f76-4959-bef2-9d33a5490395",
   "metadata": {
    "execution": {
     "iopub.execute_input": "2023-06-20T19:14:29.428843Z",
     "iopub.status.busy": "2023-06-20T19:14:29.428601Z",
     "iopub.status.idle": "2023-06-20T19:14:31.001345Z",
     "shell.execute_reply": "2023-06-20T19:14:31.000680Z",
     "shell.execute_reply.started": "2023-06-20T19:14:29.428821Z"
    }
   },
   "outputs": [
    {
     "name": "stdout",
     "output_type": "stream",
     "text": [
      "5    35.720301\n",
      "3    27.098717\n",
      "4    14.728268\n",
      "2     9.930852\n",
      "6     8.494462\n",
      "0     1.629097\n",
      "1     1.413719\n",
      "7     0.887421\n",
      "8     0.097163\n",
      "Name: attack_cat, dtype: float64\n",
      "              precision    recall  f1-score   support\n",
      "\n",
      "           0       0.57      0.18      0.28       665\n",
      "           1       0.48      0.08      0.14       583\n",
      "           2       0.35      0.32      0.33      4088\n",
      "           3       0.65      0.78      0.71     11057\n",
      "           4       0.91      0.85      0.88      6056\n",
      "           5       0.99      0.99      0.99     14755\n",
      "           6       0.90      0.77      0.83      3496\n",
      "           7       0.68      0.71      0.69       415\n",
      "           8       0.59      0.56      0.57        54\n",
      "\n",
      "    accuracy                           0.80     41169\n",
      "   macro avg       0.68      0.58      0.60     41169\n",
      "weighted avg       0.80      0.80      0.79     41169\n",
      "\n"
     ]
    }
   ],
   "source": [
    "proportions = y_train.value_counts(normalize=True) * 100\n",
    "print(proportions)\n",
    "\n",
    "model = DecisionTreeClassifier(random_state=42)\n",
    "model.fit(x_train, y_train)\n",
    "dump(model, \"/notebooks/Models/DT/DT_002_Unbalanced\")\n",
    "\n",
    "model = load(\"/notebooks/Models/DT/DT_002_Unbalanced\")\n",
    "y_pred = model.predict(x_test)\n",
    "print(classification_report(y_test, y_pred))"
   ]
  },
  {
   "cell_type": "markdown",
   "id": "2c4db732-e473-429d-90cf-25eb2fe04589",
   "metadata": {},
   "source": [
    "### Balanced"
   ]
  },
  {
   "cell_type": "code",
   "execution_count": 8,
   "id": "2cc78ab8-7127-4244-bd03-42fd86fa5178",
   "metadata": {
    "execution": {
     "iopub.execute_input": "2023-06-20T19:14:31.002424Z",
     "iopub.status.busy": "2023-06-20T19:14:31.002195Z",
     "iopub.status.idle": "2023-06-20T19:14:47.621716Z",
     "shell.execute_reply": "2023-06-20T19:14:47.620949Z",
     "shell.execute_reply.started": "2023-06-20T19:14:31.002403Z"
    }
   },
   "outputs": [
    {
     "name": "stdout",
     "output_type": "stream",
     "text": [
      "1    11.111111\n",
      "5    11.111111\n",
      "0    11.111111\n",
      "6    11.111111\n",
      "7    11.111111\n",
      "8    11.111111\n",
      "2    11.111111\n",
      "4    11.111111\n",
      "3    11.111111\n",
      "Name: attack_cat, dtype: float64\n",
      "              precision    recall  f1-score   support\n",
      "\n",
      "           0       0.20      0.18      0.19       665\n",
      "           1       0.08      0.11      0.09       583\n",
      "           2       0.35      0.68      0.46      4088\n",
      "           3       0.80      0.57      0.67     11057\n",
      "           4       0.93      0.85      0.89      6056\n",
      "           5       0.99      0.98      0.99     14755\n",
      "           6       0.88      0.78      0.82      3496\n",
      "           7       0.59      0.71      0.64       415\n",
      "           8       0.41      0.67      0.51        54\n",
      "\n",
      "    accuracy                           0.78     41169\n",
      "   macro avg       0.58      0.61      0.58     41169\n",
      "weighted avg       0.83      0.78      0.79     41169\n",
      "\n"
     ]
    }
   ],
   "source": [
    "oversample = SMOTE(sampling_strategy='not majority', random_state=42)\n",
    "x_train, y_train = oversample.fit_resample(x_train, y_train)\n",
    "x_train, y_train = shuffle(x_train, y_train, random_state=42)\n",
    "\n",
    "proportions = y_train.value_counts(normalize=True) * 100\n",
    "print(proportions)\n",
    "\n",
    "model = DecisionTreeClassifier(random_state=42)\n",
    "model.fit(x_train, y_train)\n",
    "dump(model, \"/notebooks/Models/DT/DT_002_Balanced\")\n",
    "\n",
    "model = load(\"/notebooks/Models/DT/DT_002_Balanced\")\n",
    "y_pred = model.predict(x_test)\n",
    "print(classification_report(y_test, y_pred))"
   ]
  },
  {
   "cell_type": "markdown",
   "id": "162f6a99-4cd5-40bd-b99e-7ee140ed7b8c",
   "metadata": {},
   "source": [
    "## 0.01"
   ]
  },
  {
   "cell_type": "code",
   "execution_count": 9,
   "id": "63d13dfe-af88-4638-be01-6b6c73f5ddb6",
   "metadata": {
    "execution": {
     "iopub.execute_input": "2023-06-20T19:14:47.622997Z",
     "iopub.status.busy": "2023-06-20T19:14:47.622743Z",
     "iopub.status.idle": "2023-06-20T19:14:49.638029Z",
     "shell.execute_reply": "2023-06-20T19:14:49.637067Z",
     "shell.execute_reply.started": "2023-06-20T19:14:47.622968Z"
    }
   },
   "outputs": [
    {
     "name": "stdout",
     "output_type": "stream",
     "text": [
      "(123504, 168)\n",
      "(123504,)\n",
      "(41169, 168)\n",
      "(41169,)\n"
     ]
    }
   ],
   "source": [
    "train = pd.read_csv(\"/notebooks/FinalDataset/top001_train_encoded.csv\")\n",
    "test = pd.read_csv(\"/notebooks/FinalDataset/top001_test_encoded.csv\")\n",
    "\n",
    "x_train = train.drop('attack_cat', axis=1)\n",
    "y_train = train['attack_cat']\n",
    "\n",
    "x_test = test.drop('attack_cat', axis=1)\n",
    "y_test = test['attack_cat']\n",
    "\n",
    "del train, test\n",
    "\n",
    "print(x_train.shape)\n",
    "print(y_train.shape)\n",
    "print(x_test.shape)\n",
    "print(y_test.shape)"
   ]
  },
  {
   "cell_type": "markdown",
   "id": "df329106-16af-4cfd-9505-0222a3384eb8",
   "metadata": {},
   "source": [
    "### Unbalanced"
   ]
  },
  {
   "cell_type": "code",
   "execution_count": 10,
   "id": "4a795548-ade1-40f6-9dae-74a92f14ae67",
   "metadata": {
    "execution": {
     "iopub.execute_input": "2023-06-20T19:14:49.640107Z",
     "iopub.status.busy": "2023-06-20T19:14:49.639666Z",
     "iopub.status.idle": "2023-06-20T19:14:52.167236Z",
     "shell.execute_reply": "2023-06-20T19:14:52.166403Z",
     "shell.execute_reply.started": "2023-06-20T19:14:49.640067Z"
    }
   },
   "outputs": [
    {
     "name": "stdout",
     "output_type": "stream",
     "text": [
      "5    35.720301\n",
      "3    27.098717\n",
      "4    14.728268\n",
      "2     9.930852\n",
      "6     8.494462\n",
      "0     1.629097\n",
      "1     1.413719\n",
      "7     0.887421\n",
      "8     0.097163\n",
      "Name: attack_cat, dtype: float64\n",
      "              precision    recall  f1-score   support\n",
      "\n",
      "           0       0.57      0.16      0.25       665\n",
      "           1       0.37      0.07      0.12       583\n",
      "           2       0.33      0.33      0.33      4088\n",
      "           3       0.65      0.76      0.70     11057\n",
      "           4       0.91      0.84      0.87      6056\n",
      "           5       0.99      0.98      0.99     14755\n",
      "           6       0.90      0.76      0.83      3496\n",
      "           7       0.64      0.63      0.63       415\n",
      "           8       0.50      0.52      0.51        54\n",
      "\n",
      "    accuracy                           0.79     41169\n",
      "   macro avg       0.65      0.56      0.58     41169\n",
      "weighted avg       0.79      0.79      0.79     41169\n",
      "\n"
     ]
    }
   ],
   "source": [
    "proportions = y_train.value_counts(normalize=True) * 100\n",
    "print(proportions)\n",
    "\n",
    "model = DecisionTreeClassifier(random_state=42)\n",
    "model.fit(x_train, y_train)\n",
    "dump(model, \"/notebooks/Models/DT/DT_001_Unbalanced\")\n",
    "\n",
    "model = load(\"/notebooks/Models/DT/DT_001_Unbalanced\")\n",
    "y_pred = model.predict(x_test)\n",
    "print(classification_report(y_test, y_pred))"
   ]
  },
  {
   "cell_type": "markdown",
   "id": "c2f76cd9-17bb-4e77-9864-49c90c25b932",
   "metadata": {},
   "source": [
    "### Balanced"
   ]
  },
  {
   "cell_type": "code",
   "execution_count": 11,
   "id": "8b12a6fc-acf4-45bd-a3b6-7024351b0f0b",
   "metadata": {
    "execution": {
     "iopub.execute_input": "2023-06-20T19:14:52.168498Z",
     "iopub.status.busy": "2023-06-20T19:14:52.168247Z",
     "iopub.status.idle": "2023-06-20T19:15:16.464104Z",
     "shell.execute_reply": "2023-06-20T19:15:16.463127Z",
     "shell.execute_reply.started": "2023-06-20T19:14:52.168473Z"
    }
   },
   "outputs": [
    {
     "name": "stdout",
     "output_type": "stream",
     "text": [
      "1    11.111111\n",
      "5    11.111111\n",
      "0    11.111111\n",
      "6    11.111111\n",
      "7    11.111111\n",
      "8    11.111111\n",
      "2    11.111111\n",
      "4    11.111111\n",
      "3    11.111111\n",
      "Name: attack_cat, dtype: float64\n",
      "              precision    recall  f1-score   support\n",
      "\n",
      "           0       0.26      0.17      0.21       665\n",
      "           1       0.12      0.08      0.10       583\n",
      "           2       0.34      0.69      0.45      4088\n",
      "           3       0.77      0.58      0.66     11057\n",
      "           4       0.93      0.85      0.89      6056\n",
      "           5       0.99      0.98      0.99     14755\n",
      "           6       0.89      0.77      0.82      3496\n",
      "           7       0.57      0.68      0.62       415\n",
      "           8       0.33      0.59      0.43        54\n",
      "\n",
      "    accuracy                           0.78     41169\n",
      "   macro avg       0.58      0.60      0.57     41169\n",
      "weighted avg       0.82      0.78      0.79     41169\n",
      "\n"
     ]
    }
   ],
   "source": [
    "oversample = SMOTE(sampling_strategy='not majority', random_state=42)\n",
    "x_train, y_train = oversample.fit_resample(x_train, y_train)\n",
    "x_train, y_train = shuffle(x_train, y_train, random_state=42)\n",
    "\n",
    "proportions = y_train.value_counts(normalize=True) * 100\n",
    "print(proportions)\n",
    "\n",
    "model = DecisionTreeClassifier(random_state=42)\n",
    "model.fit(x_train, y_train)\n",
    "dump(model, \"/notebooks/Models/DT/DT_001_Balanced\")\n",
    "\n",
    "model = load(\"/notebooks/Models/DT/DT_001_Balanced\")\n",
    "y_pred = model.predict(x_test)\n",
    "print(classification_report(y_test, y_pred))"
   ]
  }
 ],
 "metadata": {
  "kernelspec": {
   "display_name": "Python 3 (ipykernel)",
   "language": "python",
   "name": "python3"
  },
  "language_info": {
   "codemirror_mode": {
    "name": "ipython",
    "version": 3
   },
   "file_extension": ".py",
   "mimetype": "text/x-python",
   "name": "python",
   "nbconvert_exporter": "python",
   "pygments_lexer": "ipython3",
   "version": "3.7.16"
  }
 },
 "nbformat": 4,
 "nbformat_minor": 5
}
